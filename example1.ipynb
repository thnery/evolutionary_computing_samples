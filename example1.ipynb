{
 "cells": [
  {
   "cell_type": "code",
   "execution_count": 1,
   "metadata": {},
   "outputs": [],
   "source": [
    "import random\n",
    "import numpy\n",
    "import math\n",
    "\n",
    "from deap import base\n",
    "from deap import creator\n",
    "from deap import tools\n",
    "from deap import algorithms"
   ]
  },
  {
   "cell_type": "code",
   "execution_count": 2,
   "metadata": {},
   "outputs": [],
   "source": [
    "creator.create(\"FitnessMax\", base.Fitness, weights=(1.0,))\n",
    "creator.create(\"Individual\", list, fitness=creator.FitnessMax)"
   ]
  },
  {
   "cell_type": "code",
   "execution_count": 3,
   "metadata": {},
   "outputs": [],
   "source": [
    "toolbox = base.Toolbox()\n",
    "# Attribute generator \n",
    "toolbox.register(\"attr_bool\", random.randint, 0, 1)\n",
    "# Structure initializers\n",
    "toolbox.register(\"individual\", tools.initRepeat, creator.Individual, toolbox.attr_bool, 10)\n",
    "toolbox.register(\"population\", tools.initRepeat, list, toolbox.individual)"
   ]
  },
  {
   "cell_type": "code",
   "execution_count": 4,
   "metadata": {},
   "outputs": [],
   "source": [
    "def my_evaluate(individual):\n",
    "    \n",
    "    size = len(individual)\n",
    "    \n",
    "    val = 0\n",
    "    for i in range(size):\n",
    "        if individual[i] != 0:\n",
    "          val = val + math.pow(2, size-1 -i)\n",
    "    return pow(val,2),"
   ]
  },
  {
   "cell_type": "code",
   "execution_count": 5,
   "metadata": {},
   "outputs": [],
   "source": [
    "toolbox.register(\"evaluate\", my_evaluate)\n",
    "toolbox.register(\"mate\", tools.cxTwoPoint)\n",
    "toolbox.register(\"mutate\", tools.mutFlipBit, indpb=0.05)\n",
    "toolbox.register(\"select\", tools.selTournament, tournsize=3)"
   ]
  },
  {
   "cell_type": "code",
   "execution_count": 6,
   "metadata": {},
   "outputs": [],
   "source": [
    "def main():\n",
    "    random.seed(64)\n",
    "    \n",
    "    pop = toolbox.population(n=20)\n",
    "    hof = tools.HallOfFame(1)\n",
    "    stats = tools.Statistics(lambda ind: ind.fitness.values)\n",
    "    stats.register(\"avg\", numpy.mean)\n",
    "    stats.register(\"std\", numpy.std)\n",
    "    stats.register(\"min\", numpy.min)\n",
    "    stats.register(\"max\", numpy.max)\n",
    "    \n",
    "    pop, log = algorithms.eaSimple(pop, toolbox, cxpb=0.5, mutpb=0.2, ngen=40, \n",
    "                                   stats=stats, halloffame=hof, verbose=True)\n",
    "    \n",
    "    return pop, log, hof"
   ]
  },
  {
   "cell_type": "code",
   "execution_count": 7,
   "metadata": {},
   "outputs": [
    {
     "name": "stdout",
     "output_type": "stream",
     "text": [
      "gen\tnevals\tavg   \tstd   \tmin \tmax   \n",
      "0  \t20    \t317145\t282246\t1156\t986049\n",
      "1  \t13    \t498898\t252411\t27889\t976144\n",
      "2  \t12    \t773870\t212187\t427716\t976144\n",
      "3  \t14    \t934053\t102519\t630436\t976144\n",
      "4  \t10    \t960588\t37518.8\t853776\t976144\n",
      "5  \t9     \t976144\t0      \t976144\t976144\n",
      "6  \t12    \t970026\t26669.5\t853776\t976144\n",
      "7  \t13    \t975750\t1719.15\t968256\t976144\n",
      "8  \t8     \t961411\t59462.1\t739600\t1.0404e+06\n",
      "9  \t12    \t970940\t56429.1\t739600\t1.0404e+06\n",
      "10 \t15    \t951420\t168276 \t226576\t1.0404e+06\n",
      "11 \t12    \t999650\t56288.5\t795664\t1.04448e+06\n",
      "12 \t11    \t998065\t170283 \t258064\t1.04448e+06\n",
      "13 \t11    \t994861\t171292 \t258064\t1.04448e+06\n",
      "14 \t14    \t1.04041e+06\t7688.15\t1.00802e+06\t1.04448e+06\n",
      "15 \t16    \t1.00143e+06\t170644 \t260100     \t1.04448e+06\n",
      "16 \t16    \t1.04428e+06\t890.087\t1.0404e+06 \t1.04448e+06\n",
      "17 \t13    \t1.00903e+06\t111838 \t580644     \t1.04448e+06\n",
      "18 \t16    \t1.04418e+06\t1334.48\t1.03836e+06\t1.04448e+06\n",
      "19 \t7     \t1.04448e+06\t0      \t1.04448e+06\t1.04448e+06\n",
      "20 \t11    \t1.04428e+06\t890.087\t1.0404e+06 \t1.04448e+06\n",
      "21 \t10    \t1.03222e+06\t53450.6\t799236     \t1.04448e+06\n",
      "22 \t15    \t1.00456e+06\t174478 \t244036     \t1.04653e+06\n",
      "23 \t11    \t1.04418e+06\t1856.04\t1.03632e+06\t1.04653e+06\n",
      "24 \t19    \t965742     \t235244 \t260100     \t1.04653e+06\n",
      "25 \t12    \t1.0295e+06 \t54277.7\t801025     \t1.04653e+06\n",
      "26 \t11    \t1.04622e+06\t975.015\t1.04244e+06\t1.04653e+06\n",
      "27 \t12    \t1.04612e+06\t1780.17\t1.03836e+06\t1.04653e+06\n",
      "28 \t11    \t1.04571e+06\t3553.37\t1.03022e+06\t1.04653e+06\n",
      "29 \t10    \t1.02286e+06\t103193 \t573049     \t1.04653e+06\n",
      "30 \t9     \t1.04653e+06\t0      \t1.04653e+06\t1.04653e+06\n",
      "31 \t10    \t1.00644e+06\t171026 \t261121     \t1.04653e+06\n",
      "32 \t14    \t972206     \t215414 \t145161     \t1.04653e+06\n",
      "33 \t18    \t1.03425e+06\t53506.4\t801025     \t1.04653e+06\n",
      "34 \t12    \t1.04653e+06\t0      \t1.04653e+06\t1.04653e+06\n",
      "35 \t12    \t1.04653e+06\t0      \t1.04653e+06\t1.04653e+06\n",
      "36 \t13    \t1.04019e+06\t27645.9\t919681     \t1.04653e+06\n",
      "37 \t9     \t1.04087e+06\t15545.5\t982081     \t1.04653e+06\n",
      "38 \t14    \t992136     \t176878 \t257049     \t1.04653e+06\n",
      "39 \t14    \t1.04358e+06\t8211.15\t1.01204e+06\t1.04653e+06\n",
      "40 \t9     \t1.04612e+06\t1780.17\t1.03836e+06\t1.04653e+06\n",
      "[[1, 1, 1, 1, 1, 1, 1, 1, 1, 1], [1, 1, 1, 1, 1, 1, 1, 1, 1, 1], [1, 1, 1, 1, 1, 1, 1, 1, 1, 1], [1, 1, 1, 1, 1, 1, 1, 1, 1, 1], [1, 1, 1, 1, 1, 1, 1, 1, 1, 1], [1, 1, 1, 1, 1, 1, 1, 1, 1, 1], [1, 1, 1, 1, 1, 1, 1, 1, 1, 1], [1, 1, 1, 1, 1, 1, 1, 1, 1, 1], [1, 1, 1, 1, 1, 1, 1, 1, 1, 1], [1, 1, 1, 1, 1, 1, 1, 1, 1, 1], [1, 1, 1, 1, 1, 1, 1, 1, 1, 1], [1, 1, 1, 1, 1, 1, 1, 1, 1, 1], [1, 1, 1, 1, 1, 1, 1, 1, 1, 1], [1, 1, 1, 1, 1, 1, 1, 1, 1, 1], [1, 1, 1, 1, 1, 1, 1, 1, 1, 1], [1, 1, 1, 1, 1, 1, 1, 0, 1, 1], [1, 1, 1, 1, 1, 1, 1, 1, 1, 1], [1, 1, 1, 1, 1, 1, 1, 1, 1, 1], [1, 1, 1, 1, 1, 1, 1, 1, 1, 1], [1, 1, 1, 1, 1, 1, 1, 1, 1, 1]]\n"
     ]
    }
   ],
   "source": [
    "if __name__ == \"__main__\":\n",
    "    results = main()\n",
    "    \n",
    "    print(results[0])"
   ]
  },
  {
   "cell_type": "code",
   "execution_count": null,
   "metadata": {},
   "outputs": [],
   "source": []
  }
 ],
 "metadata": {
  "kernelspec": {
   "display_name": "Python 3",
   "language": "python",
   "name": "python3"
  },
  "language_info": {
   "codemirror_mode": {
    "name": "ipython",
    "version": 3
   },
   "file_extension": ".py",
   "mimetype": "text/x-python",
   "name": "python",
   "nbconvert_exporter": "python",
   "pygments_lexer": "ipython3",
   "version": "3.6.5"
  }
 },
 "nbformat": 4,
 "nbformat_minor": 2
}
