{
 "cells": [
  {
   "cell_type": "code",
   "execution_count": null,
   "metadata": {},
   "outputs": [],
   "source": [
    "import random\n",
    "import numpy\n",
    "import math\n",
    "\n",
    "from deap import base\n",
    "from deap import creator\n",
    "from deap import tools\n",
    "from deap import algorithms\n",
    "\n",
    "import matplotlib.pyplot as plt\n",
    "\n",
    "from deap import benchmarks"
   ]
  },
  {
   "cell_type": "code",
   "execution_count": null,
   "metadata": {},
   "outputs": [],
   "source": [
    "creator.create(\"Fitness\", base.Fitness, weights=(-1.0, 1.0,))\n",
    "creator.create(\"Individual\", set, fitness=creator.Fitness)"
   ]
  },
  {
   "cell_type": "code",
   "execution_count": null,
   "metadata": {},
   "outputs": [],
   "source": [
    "toolbox = base.Toolbox()\n",
    "# Attribute generator\n",
    "toolbox.register(\"attr_weight\", random.uniform, 1, 15)\n",
    "toolbox.register(\"attr_price\", random.uniform, 1, 100)\n",
    "# Structure initializers\n",
    "toolbox.register(\"individual\", tools.initCycle, creator.Individual, (toolbox.attr_weight, toolbox.attr_price), 1)\n",
    "toolbox.register(\"population\", tools.initRepeat, set, toolbox.individual)"
   ]
  },
  {
   "cell_type": "code",
   "execution_count": null,
   "metadata": {},
   "outputs": [],
   "source": [
    "def objective(individual):\n",
    "    return individual[0], individual[1],\n",
    "\n",
    "def my_crossover(ind1, ind2):\n",
    "    '''\n",
    "    ind1[0] = ind2[0]\n",
    "    ind2[1] = ind1[1]\n",
    "    '''\n",
    "    return ind1, ind2\n",
    "\n",
    "def my_mutation(ind):\n",
    "    '''\n",
    "    if random.random() < 0.5:\n",
    "        \n",
    "        ind[0] = random.randint(80,200)\n",
    "    else:\n",
    "        ind[1] = random.randint(80,1000)\n",
    "    ''' \n",
    "    return ind,"
   ]
  },
  {
   "cell_type": "code",
   "execution_count": null,
   "metadata": {},
   "outputs": [],
   "source": [
    "toolbox.register(\"evaluate\", objective)\n",
    "toolbox.register(\"mate\", my_crossover)\n",
    "toolbox.register(\"mutate\", my_mutation)\n",
    "toolbox.register(\"select\", tools.selNSGA2)"
   ]
  },
  {
   "cell_type": "code",
   "execution_count": null,
   "metadata": {},
   "outputs": [],
   "source": [
    "def main():\n",
    "    random.seed(64)\n",
    "    \n",
    "    NGEN = 500\n",
    "    MU = 1000\n",
    "    LAMBDA = 100\n",
    "    CXPB = 0.7\n",
    "    MUTPB = 0.2\n",
    "    \n",
    "    pop = toolbox.population(n=MU)\n",
    "    hof = tools.ParetoFront()\n",
    "    stats = tools.Statistics(lambda ind: ind.fitness.values)\n",
    "    stats.register(\"avg\", numpy.mean, axis=0)\n",
    "    stats.register(\"std\", numpy.std, axis=0)\n",
    "    stats.register(\"min\", numpy.min, axis=0)\n",
    "    stats.register(\"max\", numpy.max, axis=0)\n",
    "    \n",
    "    algorithms.eaMuPlusLambda(pop, toolbox, MU, LAMBDA, CXPB, MUTPB, NGEN, stats,\n",
    "                              halloffame=hof, verbose=False)\n",
    "    \n",
    "    return pop, stats, hof"
   ]
  },
  {
   "cell_type": "code",
   "execution_count": null,
   "metadata": {},
   "outputs": [],
   "source": [
    "def plot_pareto(population):\n",
    "    \n",
    "    x_values = []\n",
    "    y_values = []\n",
    "    \n",
    "    for individual in population:\n",
    "        fitnesses = toolbox.evaluate(individual)\n",
    "        \n",
    "        x_values.append(fitnesses[0])\n",
    "        y_values.append(fitnesses[1])\n",
    "    \n",
    "    \n",
    "    plt.plot(x_values, y_values, '.')\n",
    "    #plt.yscale('log')\n",
    "    plt.ylabel('Preço')\n",
    "    plt.xlabel('Area')\n",
    "    plt.show()"
   ]
  },
  {
   "cell_type": "code",
   "execution_count": null,
   "metadata": {},
   "outputs": [],
   "source": [
    "if __name__ == \"__main__\":\n",
    "    results = main()\n",
    "    \n",
    "    #print(results[2])\n",
    "    \n",
    "    plot_pareto(results[2])\n",
    "    print(results[2])"
   ]
  }
 ],
 "metadata": {
  "kernelspec": {
   "display_name": "Python 3",
   "language": "python",
   "name": "python3"
  },
  "language_info": {
   "codemirror_mode": {
    "name": "ipython",
    "version": 3
   },
   "file_extension": ".py",
   "mimetype": "text/x-python",
   "name": "python",
   "nbconvert_exporter": "python",
   "pygments_lexer": "ipython3",
   "version": "3.6.5"
  }
 },
 "nbformat": 4,
 "nbformat_minor": 2
}
