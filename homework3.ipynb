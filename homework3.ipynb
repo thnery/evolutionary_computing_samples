{
 "cells": [
  {
   "cell_type": "markdown",
   "metadata": {},
   "source": [
    "## N-Queens Problem"
   ]
  },
  {
   "cell_type": "code",
   "execution_count": 1,
   "metadata": {},
   "outputs": [],
   "source": [
    "import random\n",
    "\n",
    "import numpy\n",
    "\n",
    "from deap import algorithms\n",
    "from deap import base\n",
    "from deap import creator\n",
    "from deap import tools"
   ]
  },
  {
   "cell_type": "code",
   "execution_count": 2,
   "metadata": {},
   "outputs": [],
   "source": [
    "creator.create(\"FitnessMin\", base.Fitness, weights=(-1.0,))\n",
    "creator.create(\"Individual\", list, fitness=creator.FitnessMin)"
   ]
  },
  {
   "cell_type": "code",
   "execution_count": 3,
   "metadata": {},
   "outputs": [],
   "source": [
    "toolbox = base.Toolbox()\n",
    "toolbox.register(\"permutation\", random.sample, range(20), 20)\n",
    "toolbox.register(\"individual\", tools.initIterate, creator.Individual, toolbox.permutation)\n",
    "toolbox.register(\"population\", tools.initRepeat, list, toolbox.individual)"
   ]
  },
  {
   "cell_type": "code",
   "execution_count": 4,
   "metadata": {},
   "outputs": [],
   "source": [
    "def evaluate(individual):\n",
    "    size = len(individual)\n",
    "    left_diagonal = [0] * (2*size-1)\n",
    "    right_diagonal = [0] * (2*size-1)\n",
    "    \n",
    "    for i in range(size):\n",
    "        left_diagonal[i+individual[i]] += 1\n",
    "        right_diagonal[size-1-i+individual[i]] += 1\n",
    "    \n",
    "    sum_ = 0\n",
    "    for i in range(2*size-1):\n",
    "        if left_diagonal[i] > 1:\n",
    "            sum_ += left_diagonal[i] - 1\n",
    "        if right_diagonal[i] > 1:\n",
    "            sum_ += right_diagonal[i] - 1\n",
    "    return sum_,"
   ]
  },
  {
   "cell_type": "code",
   "execution_count": 5,
   "metadata": {},
   "outputs": [],
   "source": [
    "toolbox.register(\"evaluate\", evaluate)\n",
    "toolbox.register(\"mate\", tools.cxPartialyMatched)\n",
    "toolbox.register(\"mutate\", tools.mutShuffleIndexes, indpb=2.0/20)\n",
    "toolbox.register(\"select\", tools.selTournament, tournsize=3)"
   ]
  },
  {
   "cell_type": "code",
   "execution_count": 6,
   "metadata": {},
   "outputs": [],
   "source": [
    "def main():\n",
    "    random.seed(64)\n",
    "    \n",
    "    pop = toolbox.population(n=1000)\n",
    "    hof = tools.HallOfFame(1)\n",
    "    stats = tools.Statistics(lambda ind: ind.fitness.values)\n",
    "    stats.register(\"Avg\", numpy.mean)\n",
    "    stats.register(\"Std\", numpy.std)\n",
    "    stats.register(\"Min\", numpy.min)\n",
    "    stats.register(\"Max\", numpy.max)\n",
    "    \n",
    "    algorithms.eaSimple(pop, toolbox, cxpb=0.5, mutpb=0.2, ngen=100, stats=stats, halloffame=hof, verbose=True)\n",
    "    \n",
    "    return pop, stats, hof"
   ]
  },
  {
   "cell_type": "code",
   "execution_count": 7,
   "metadata": {},
   "outputs": [
    {
     "name": "stdout",
     "output_type": "stream",
     "text": [
      "gen\tnevals\tAvg  \tStd    \tMin\tMax\n",
      "0  \t1000  \t10.46\t2.01057\t4  \t18 \n",
      "1  \t587   \t9.363\t1.87543\t4  \t16 \n",
      "2  \t643   \t8.877\t1.91986\t4  \t16 \n",
      "3  \t593   \t8.499\t2.08231\t3  \t16 \n",
      "4  \t593   \t8.21 \t2.14893\t3  \t16 \n",
      "5  \t634   \t7.993\t2.16586\t4  \t15 \n",
      "6  \t592   \t7.839\t2.29458\t3  \t15 \n",
      "7  \t583   \t7.6  \t2.30608\t4  \t16 \n",
      "8  \t601   \t7.622\t2.34758\t4  \t15 \n",
      "9  \t620   \t7.333\t2.30002\t2  \t15 \n",
      "10 \t610   \t7.304\t2.42148\t3  \t15 \n",
      "11 \t572   \t6.975\t2.45079\t3  \t15 \n",
      "12 \t611   \t6.933\t2.59856\t3  \t15 \n",
      "13 \t591   \t6.785\t2.57891\t2  \t15 \n",
      "14 \t587   \t6.711\t2.7121 \t2  \t17 \n",
      "15 \t620   \t6.622\t2.72857\t2  \t16 \n",
      "16 \t585   \t6.42 \t2.73927\t1  \t17 \n",
      "17 \t566   \t6.157\t2.74342\t1  \t15 \n",
      "18 \t574   \t5.887\t2.75576\t1  \t15 \n",
      "19 \t606   \t5.667\t2.7379 \t1  \t15 \n",
      "20 \t601   \t5.271\t2.68134\t1  \t15 \n",
      "21 \t602   \t5.005\t2.70129\t1  \t15 \n",
      "22 \t588   \t4.405\t2.39102\t1  \t15 \n",
      "23 \t583   \t4.165\t2.27151\t1  \t13 \n",
      "24 \t573   \t3.954\t2.33021\t1  \t14 \n",
      "25 \t587   \t3.776\t2.28294\t1  \t15 \n",
      "26 \t604   \t3.785\t2.45983\t1  \t14 \n",
      "27 \t611   \t3.646\t2.46266\t0  \t15 \n",
      "28 \t596   \t3.353\t2.50447\t0  \t13 \n",
      "29 \t588   \t2.94 \t2.42825\t0  \t13 \n",
      "30 \t626   \t2.348\t2.27   \t0  \t13 \n",
      "31 \t594   \t1.93 \t1.98421\t0  \t12 \n",
      "32 \t567   \t1.741\t1.89893\t0  \t13 \n",
      "33 \t562   \t1.674\t1.84166\t0  \t11 \n",
      "34 \t623   \t1.634\t1.97587\t0  \t12 \n",
      "35 \t604   \t1.397\t2.03258\t0  \t11 \n",
      "36 \t618   \t1.167\t2.07825\t0  \t11 \n",
      "37 \t591   \t0.886\t1.94139\t0  \t10 \n",
      "38 \t618   \t0.799\t2.00215\t0  \t11 \n",
      "39 \t605   \t0.871\t2.07855\t0  \t11 \n",
      "40 \t579   \t0.875\t2.08647\t0  \t10 \n",
      "41 \t577   \t0.758\t1.93066\t0  \t10 \n",
      "42 \t616   \t0.913\t2.12495\t0  \t11 \n",
      "43 \t558   \t0.885\t2.0581 \t0  \t10 \n",
      "44 \t584   \t0.796\t1.91217\t0  \t10 \n",
      "45 \t633   \t0.825\t1.99909\t0  \t11 \n",
      "46 \t593   \t0.795\t1.97661\t0  \t12 \n",
      "47 \t618   \t0.772\t1.91102\t0  \t12 \n",
      "48 \t612   \t0.778\t1.89069\t0  \t10 \n",
      "49 \t634   \t0.916\t2.08349\t0  \t10 \n",
      "50 \t613   \t0.882\t2.13356\t0  \t12 \n",
      "51 \t574   \t0.886\t2.01965\t0  \t11 \n",
      "52 \t595   \t0.828\t2.01306\t0  \t12 \n",
      "53 \t601   \t0.833\t2.04233\t0  \t12 \n",
      "54 \t574   \t0.749\t1.86976\t0  \t11 \n",
      "55 \t597   \t0.785\t2.02306\t0  \t14 \n",
      "56 \t575   \t0.815\t1.99869\t0  \t11 \n",
      "57 \t612   \t0.954\t2.1307 \t0  \t12 \n",
      "58 \t585   \t0.815\t1.97048\t0  \t10 \n",
      "59 \t605   \t0.819\t2.03279\t0  \t12 \n",
      "60 \t612   \t0.974\t2.14227\t0  \t12 \n",
      "61 \t604   \t0.851\t2.02307\t0  \t12 \n",
      "62 \t612   \t0.82 \t2.01385\t0  \t12 \n",
      "63 \t600   \t0.901\t2.13242\t0  \t10 \n",
      "64 \t604   \t0.873\t2.12011\t0  \t11 \n",
      "65 \t604   \t0.788\t1.98571\t0  \t11 \n",
      "66 \t608   \t0.821\t2.04131\t0  \t11 \n",
      "67 \t582   \t0.813\t1.93598\t0  \t12 \n",
      "68 \t625   \t0.838\t1.96615\t0  \t13 \n",
      "69 \t599   \t0.864\t1.96252\t0  \t11 \n",
      "70 \t578   \t0.847\t2.02623\t0  \t10 \n",
      "71 \t578   \t0.885\t2.02133\t0  \t11 \n",
      "72 \t585   \t0.891\t2.0955 \t0  \t12 \n",
      "73 \t628   \t0.869\t2.08035\t0  \t11 \n",
      "74 \t593   \t0.904\t2.0564 \t0  \t11 \n",
      "75 \t601   \t0.852\t2.0669 \t0  \t13 \n",
      "76 \t631   \t0.896\t2.02118\t0  \t10 \n",
      "77 \t609   \t0.831\t2.01951\t0  \t11 \n",
      "78 \t619   \t0.887\t2.07852\t0  \t12 \n",
      "79 \t618   \t0.839\t1.99476\t0  \t11 \n",
      "80 \t654   \t0.902\t2.14159\t0  \t12 \n",
      "81 \t605   \t0.92 \t2.07499\t0  \t12 \n",
      "82 \t579   \t0.911\t2.15617\t0  \t12 \n",
      "83 \t558   \t0.787\t1.95899\t0  \t11 \n",
      "84 \t625   \t0.74 \t1.93608\t0  \t12 \n",
      "85 \t633   \t0.861\t2.01536\t0  \t12 \n",
      "86 \t603   \t0.995\t2.10023\t0  \t12 \n",
      "87 \t571   \t0.842\t2.02708\t0  \t13 \n",
      "88 \t614   \t0.873\t2.03295\t0  \t10 \n",
      "89 \t613   \t0.831\t2.09534\t0  \t12 \n",
      "90 \t592   \t0.76 \t1.94381\t0  \t12 \n",
      "91 \t596   \t0.818\t1.98214\t0  \t10 \n",
      "92 \t610   \t0.881\t2.12199\t0  \t12 \n",
      "93 \t615   \t0.861\t1.99592\t0  \t11 \n",
      "94 \t572   \t0.748\t1.86936\t0  \t11 \n",
      "95 \t597   \t0.883\t1.99281\t0  \t10 \n",
      "96 \t574   \t0.783\t1.9829 \t0  \t13 \n",
      "97 \t646   \t0.839\t1.94861\t0  \t11 \n",
      "98 \t622   \t0.968\t2.21788\t0  \t12 \n",
      "99 \t604   \t0.875\t2.08168\t0  \t11 \n",
      "100\t614   \t0.741\t1.92456\t0  \t11 \n"
     ]
    }
   ],
   "source": [
    "if __name__ == \"__main__\":\n",
    "    main()"
   ]
  }
 ],
 "metadata": {
  "kernelspec": {
   "display_name": "Python 3",
   "language": "python",
   "name": "python3"
  },
  "language_info": {
   "codemirror_mode": {
    "name": "ipython",
    "version": 3
   },
   "file_extension": ".py",
   "mimetype": "text/x-python",
   "name": "python",
   "nbconvert_exporter": "python",
   "pygments_lexer": "ipython3",
   "version": "3.6.5"
  }
 },
 "nbformat": 4,
 "nbformat_minor": 2
}
