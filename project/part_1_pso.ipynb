{
 "cells": [
  {
   "cell_type": "code",
   "execution_count": 1,
   "metadata": {},
   "outputs": [],
   "source": [
    "# imports\n",
    "import operator\n",
    "import random\n",
    "import numpy\n",
    "\n",
    "from deap import base, benchmarks, creator, tools\n",
    "\n",
    "from sklearn.svm import SVR\n",
    "from sklearn.model_selection import train_test_split, cross_val_score\n",
    "from sklearn.datasets import load_boston\n",
    "from sklearn import metrics\n",
    "\n",
    "import matplotlib.pyplot as plt"
   ]
  },
  {
   "cell_type": "code",
   "execution_count": 2,
   "metadata": {},
   "outputs": [],
   "source": [
    "db = load_boston()\n",
    "cmin = math.pow(2, -15)\n",
    "cmax = math.pow(2, 3)\n",
    "gmin = math.pow(2, -5)\n",
    "gmax = math.pow(2, 15)"
   ]
  },
  {
   "cell_type": "code",
   "execution_count": 3,
   "metadata": {},
   "outputs": [],
   "source": [
    "creator.create(\"FitnessMax\", base.Fitness, weights=(1.0,))\n",
    "creator.create(\"Particle\", list, fitness=creator.FitnessMax, speed=list, cmin=cmin, cmax=cmax, gmin=gmin, gmax=gmax)"
   ]
  },
  {
   "cell_type": "code",
   "execution_count": 4,
   "metadata": {},
   "outputs": [],
   "source": [
    "def generate(size, cmin, cmax, gmin, gmax):\n",
    "    part = creator.Particle(random.uniform(pmin, pmax) for _ in range(size)) \n",
    "    part.speed = [random.uniform(smin, smax) for _ in range(size)]\n",
    "    part.smin = smin\n",
    "    part.smax = smax\n",
    "    return part"
   ]
  },
  {
   "cell_type": "code",
   "execution_count": 5,
   "metadata": {},
   "outputs": [],
   "source": [
    "def updateParticle(part, best, phi1, phi2):\n",
    "    u1 = (random.uniform(0, phi1) for _ in range(len(part)))\n",
    "    u2 = (random.uniform(0, phi2) for _ in range(len(part)))\n",
    "    v_u1 = map(operator.mul, u1, map(operator.sub, part.best, part))\n",
    "    v_u2 = map(operator.mul, u2, map(operator.sub, best, part))\n",
    "    part.speed = list(map(operator.add, part.speed, map(operator.add, v_u1, v_u2)))\n",
    "    for i, speed in enumerate(part.speed):\n",
    "        if speed < part.smin:\n",
    "            part.speed[i] = part.smin\n",
    "        elif speed > part.smax:\n",
    "            part.speed[i] = part.smax\n",
    "    part[:] = list(map(operator.add, part, part.speed))"
   ]
  },
  {
   "cell_type": "code",
   "execution_count": 6,
   "metadata": {},
   "outputs": [],
   "source": [
    "# def evaluate(part):\n",
    "#     X = db.data\n",
    "#     y = db.target\n",
    "    \n",
    "#     clf = SVR(kernel='rbf', C=individual[0], gamma=individual[1])\n",
    "    \n",
    "#     scores = cross_val_score(clf, X, y, cv=5)\n",
    "#     acc = scores.mean()\n",
    "    \n",
    "#     return acc,"
   ]
  },
  {
   "cell_type": "code",
   "execution_count": 7,
   "metadata": {},
   "outputs": [],
   "source": [
    "toolbox = base.Toolbox()\n",
    "toolbox.register(\"particle\", generate, size=2, pmin=-6, pmax=6, smin=-3, smax=3)\n",
    "toolbox.register(\"population\", tools.initRepeat, list, toolbox.particle)\n",
    "toolbox.register(\"update\", updateParticle, phi1=2.0, phi2=2.0)\n",
    "toolbox.register(\"evaluate\", benchmarks.h1)"
   ]
  },
  {
   "cell_type": "code",
   "execution_count": 8,
   "metadata": {},
   "outputs": [],
   "source": [
    "def main():\n",
    "    pop = toolbox.population(n=5)\n",
    "    stats = tools.Statistics(lambda ind: ind.fitness.values)\n",
    "    stats.register(\"avg\", numpy.mean)\n",
    "    stats.register(\"std\", numpy.std)\n",
    "    stats.register(\"min\", numpy.min)\n",
    "    stats.register(\"max\", numpy.max)\n",
    "\n",
    "    logbook = tools.Logbook()\n",
    "    logbook.header = [\"gen\", \"evals\"] + stats.fields\n",
    "\n",
    "    GEN = 10\n",
    "    best = None\n",
    "    \n",
    "    print(pop)\n",
    "    \n",
    "    for g in range(GEN):\n",
    "        for part in pop:\n",
    "            part.fitness.values = toolbox.evaluate(part)\n",
    "            print(part.fitness.values)\n",
    "            if not part.best or part.best.fitness < part.fitness:\n",
    "                part.best = creator.Particle(part)\n",
    "                part.best.fitness.values = part.fitness.values\n",
    "            if not best or best.fitness < part.fitness:\n",
    "                best = creator.Particle(part)\n",
    "                best.fitness.values = part.fitness.values\n",
    "        for part in pop:\n",
    "            toolbox.update(part, best)\n",
    "\n",
    "        # Gather all the fitnesses in one list and print the stats\n",
    "        logbook.record(gen=g, evals=len(pop), **stats.compile(pop))\n",
    "        print(logbook.stream)\n",
    "    \n",
    "    return pop, logbook, best"
   ]
  },
  {
   "cell_type": "code",
   "execution_count": 9,
   "metadata": {},
   "outputs": [
    {
     "name": "stdout",
     "output_type": "stream",
     "text": [
      "[[-0.44240759548298847, -5.44068361236971], [-5.373749965727063, -2.877599694865553], [-4.437546446649334, -5.208042459564461], [-4.703897931836714, -4.9714819028986135], [5.563250024249161, 4.837731952094112]]\n",
      "(0.03428927518009593,)\n",
      "(0.05918637809166855,)\n",
      "(0.03241764906522235,)\n",
      "(0.05800409105877631,)\n",
      "(0.3001421512557164,)\n",
      "gen\tevals\tavg      \tstd     \tmin      \tmax     \n",
      "0  \t5    \t0.0968079\t0.102294\t0.0324176\t0.300142\n",
      "(0.03419296007432597,)\n",
      "(0.035737659567612066,)\n",
      "(0.0901108859341814,)\n",
      "(0.11350187296495871,)\n",
      "(0.056313080820304715,)\n",
      "1  \t5    \t0.0659713\t0.031174\t0.034193 \t0.113502\n",
      "(0.0836306924356786,)\n",
      "(0.005897257792327472,)\n",
      "(0.16346206016847514,)\n",
      "(0.16477828076129727,)\n",
      "(0.07070827060008987,)\n",
      "2  \t5    \t0.0976953\t0.0602966\t0.00589726\t0.164778\n",
      "(0.1346016158767149,)\n",
      "(0.1219070215508084,)\n",
      "(0.25280644031612903,)\n",
      "(0.217566057346511,)\n",
      "(0.2341250545755314,)\n",
      "3  \t5    \t0.192201 \t0.0535406\t0.121907  \t0.252806\n",
      "(0.21189357329633215,)\n",
      "(0.1183368701309577,)\n",
      "(0.5428566708799217,)\n",
      "(0.4161835796817031,)\n",
      "(0.24815696638256232,)\n",
      "4  \t5    \t0.307486 \t0.152085 \t0.118337  \t0.542857\n",
      "(0.3461098604185994,)\n",
      "(0.4913594438111745,)\n",
      "(0.21829704483757217,)\n",
      "(0.2268683935843824,)\n",
      "(0.4605810769465262,)\n",
      "5  \t5    \t0.348643 \t0.113775 \t0.218297  \t0.491359\n",
      "(0.013461819925951196,)\n",
      "(0.5573905488239445,)\n",
      "(0.6215300954976772,)\n",
      "(1.469750343008268,)\n",
      "(0.3932086964984837,)\n",
      "6  \t5    \t0.611068 \t0.478523 \t0.0134618 \t1.46975 \n",
      "(0.16942564193614848,)\n",
      "(0.3187626542150904,)\n",
      "(0.0418579934996755,)\n",
      "(0.3283986299026387,)\n",
      "(0.43390618996933267,)\n",
      "7  \t5    \t0.25847  \t0.137224 \t0.041858  \t0.433906\n",
      "(0.1671262991854847,)\n",
      "(0.33976587171024786,)\n",
      "(0.8557508831843638,)\n",
      "(0.8641009437798474,)\n",
      "(0.15203637842172085,)\n",
      "8  \t5    \t0.475756 \t0.320546 \t0.152036  \t0.864101\n",
      "(0.28508231682401575,)\n",
      "(0.7147512834269432,)\n",
      "(0.07970394552074545,)\n",
      "(0.2425712064876669,)\n",
      "(0.0621800144823261,)\n",
      "9  \t5    \t0.276858 \t0.235775 \t0.06218   \t0.714751\n",
      "gen\tevals\tavg      \tstd      \tmin       \tmax     \n",
      "0  \t5    \t0.0968079\t0.102294 \t0.0324176 \t0.300142\n",
      "1  \t5    \t0.0659713\t0.031174 \t0.034193  \t0.113502\n",
      "2  \t5    \t0.0976953\t0.0602966\t0.00589726\t0.164778\n",
      "3  \t5    \t0.192201 \t0.0535406\t0.121907  \t0.252806\n",
      "4  \t5    \t0.307486 \t0.152085 \t0.118337  \t0.542857\n",
      "5  \t5    \t0.348643 \t0.113775 \t0.218297  \t0.491359\n",
      "6  \t5    \t0.611068 \t0.478523 \t0.0134618 \t1.46975 \n",
      "7  \t5    \t0.25847  \t0.137224 \t0.041858  \t0.433906\n",
      "8  \t5    \t0.475756 \t0.320546 \t0.152036  \t0.864101\n",
      "9  \t5    \t0.276858 \t0.235775 \t0.06218   \t0.714751\n"
     ]
    }
   ],
   "source": [
    "if __name__ == \"__main__\":\n",
    "    results = main()\n",
    "    print(results[1])"
   ]
  }
 ],
 "metadata": {
  "kernelspec": {
   "display_name": "Python 3",
   "language": "python",
   "name": "python3"
  },
  "language_info": {
   "codemirror_mode": {
    "name": "ipython",
    "version": 3
   },
   "file_extension": ".py",
   "mimetype": "text/x-python",
   "name": "python",
   "nbconvert_exporter": "python",
   "pygments_lexer": "ipython3",
   "version": "3.6.6"
  }
 },
 "nbformat": 4,
 "nbformat_minor": 2
}
