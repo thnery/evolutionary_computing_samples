{
 "cells": [
  {
   "cell_type": "markdown",
   "metadata": {},
   "source": [
    "# Part 03\n",
    "## Optimize SVM Parameters (C and Gamma) on RBF Kernel\n",
    "\n",
    "### Alunos: Camilla Rocha & Tácio Nery"
   ]
  },
  {
   "cell_type": "code",
   "execution_count": 1,
   "metadata": {},
   "outputs": [],
   "source": [
    "# imports\n",
    "import operator\n",
    "import random\n",
    "import numpy\n",
    "import math\n",
    "import copy\n",
    "\n",
    "from deap import base, benchmarks, creator, tools, algorithms\n",
    "\n",
    "from sklearn.svm import SVR\n",
    "from sklearn.model_selection import ShuffleSplit, KFold\n",
    "from sklearn.model_selection import train_test_split, cross_val_score\n",
    "from sklearn.datasets import load_boston\n",
    "from sklearn import metrics\n",
    "\n",
    "import matplotlib.pyplot as plt"
   ]
  },
  {
   "cell_type": "code",
   "execution_count": 2,
   "metadata": {},
   "outputs": [],
   "source": [
    "db = load_boston()\n",
    "\n",
    "cmin = math.pow(2, -15)\n",
    "cmax = math.pow(2, 3)\n",
    "gmin = math.pow(2, -5)\n",
    "gmax = math.pow(2, 15)"
   ]
  },
  {
   "cell_type": "code",
   "execution_count": 3,
   "metadata": {},
   "outputs": [],
   "source": [
    "X = db.data\n",
    "y = db.target"
   ]
  },
  {
   "cell_type": "code",
   "execution_count": 4,
   "metadata": {},
   "outputs": [],
   "source": [
    "def evaluate(individual):\n",
    "    c = individual[0]\n",
    "    gamma = individual[1]\n",
    "    model = SVR(C=c,gamma=gamma)\n",
    "    \n",
    "    scores = []\n",
    "    support_vectors = []\n",
    "    kfold = KFold(n_splits=3)\n",
    "    for k, (train,test) in enumerate(kfold.split(X,y)):\n",
    "        model.fit(X[train], y[train])\n",
    "        score = model.score(X[test], y[test])\n",
    "        scores.append(score)\n",
    "        support_vectors.append(sum(model.n_support_))\n",
    "    \n",
    "    return numpy.mean(scores), numpy.mean(support_vectors),\n",
    "\n",
    "def crossover(ind1,ind2):\n",
    "    temp = copy.deepcopy(ind1)\n",
    "    ind1[0] = ind2[0]\n",
    "    ind2[0] = temp[0]\n",
    "    return ind1,ind2,\n",
    "\n",
    "def mutation(individual, indpb):\n",
    "    mu_c = numpy.mean([cmin,cmax])\n",
    "    mu_gamma = numpy.mean([gmin,gmax])\n",
    "    sigma_c = numpy.std([cmin,cmax])\n",
    "    sigma_gamma = numpy.std([gmin,gmax])\n",
    "    #MU\n",
    "    if random.random() > indpb:\n",
    "        individual[0] += random.gauss(mu_c, sigma_c)\n",
    "        if individual[0] < cmin:\n",
    "            individual[0] = cmin\n",
    "        elif individual[0] > cmax:\n",
    "            individual[0] = cmax\n",
    "            \n",
    "    #GAMMA\n",
    "    if random.random() > indpb:\n",
    "        individual[1] += random.gauss(sigma_c, sigma_gamma)\n",
    "        if individual[1] < gmin:\n",
    "            individual[1] = gmin\n",
    "        elif individual[1] > gmax:\n",
    "            individual[1] = gmax\n",
    "    return individual,"
   ]
  },
  {
   "cell_type": "code",
   "execution_count": 5,
   "metadata": {},
   "outputs": [],
   "source": [
    "creator.create(\"FitnessGA\", base.Fitness, weights=(1.0,-1.0,))\n",
    "creator.create(\"Individual\", list, fitness=creator.FitnessGA)\n",
    "toolboxGA = base.Toolbox()\n",
    "toolboxGA.register(\"attr_c\", random.uniform, cmin, cmax)\n",
    "toolboxGA.register(\"attr_gamma\", random.uniform, gmin, gmax)\n",
    "toolboxGA.register(\"individual\", tools.initCycle, creator.Individual, (toolboxGA.attr_c, toolboxGA.attr_gamma), 1)\n",
    "toolboxGA.register(\"population\", tools.initRepeat, list, toolboxGA.individual)\n",
    "toolboxGA.register(\"evaluate\", evaluate)\n",
    "toolboxGA.register(\"mate\", crossover)\n",
    "toolboxGA.register(\"mutate\", mutation, indpb=0.25)\n",
    "toolboxGA.register(\"select\", tools.selNSGA2)"
   ]
  },
  {
   "cell_type": "code",
   "execution_count": 6,
   "metadata": {},
   "outputs": [],
   "source": [
    "def plot_pareto(pareto):\n",
    "    x_values = []\n",
    "    y_values = []\n",
    "    for individual in pareto:\n",
    "        fitnesses = toolboxGA.evaluate(individual)\n",
    "        x_values.append(fitnesses[0])\n",
    "        y_values.append(fitnesses[1])\n",
    "    \n",
    "    plt.plot(x_values, y_values, '.')\n",
    "    plt.ylabel('SUPPORT VECTORS')\n",
    "    plt.xlabel('SCORE')\n",
    "    plt.show()"
   ]
  },
  {
   "cell_type": "code",
   "execution_count": 7,
   "metadata": {},
   "outputs": [],
   "source": [
    "def main():\n",
    "    MU = 100\n",
    "    LAMBDA = 100\n",
    "    pop = toolboxGA.population(n=20)\n",
    "    hof = tools.ParetoFront()\n",
    "    stats = tools.Statistics(lambda ind: ind.fitness.values)\n",
    "    stats.register(\"avg\", numpy.mean)\n",
    "    stats.register(\"std\", numpy.std)\n",
    "    stats.register(\"min\", numpy.min)\n",
    "    stats.register(\"max\", numpy.max)\n",
    "    pop, log = algorithms.eaMuPlusLambda(population=pop, toolbox=toolboxGA, mu=MU, lambda_=LAMBDA, \n",
    "                                         cxpb=0.5, mutpb=0.5, ngen=20, stats=stats,\n",
    "                                         halloffame=hof, verbose=True)\n",
    "    return hof,log"
   ]
  },
  {
   "cell_type": "code",
   "execution_count": null,
   "metadata": {},
   "outputs": [
    {
     "name": "stdout",
     "output_type": "stream",
     "text": [
      "gen\tnevals\tavg         \tstd        \tmin         \tmax        \n",
      "0  \t20    \t-4.41624e+08\t6.23796e+08\t-1.90851e+09\t4.75063e+08\n",
      "1  \t100   \t-6.2111e+08 \t7.39298e+08\t-1.95455e+09\t1.22023e+08\n",
      "2  \t100   \t-7.66201e+08\t8.80332e+08\t-1.95455e+09\t-0.556857  \n",
      "3  \t100   \t-9.60742e+08\t9.64035e+08\t-1.95455e+09\t-0.556857  \n",
      "4  \t100   \t-9.54501e+08\t9.6591e+08 \t-1.95706e+09\t-0.556857  \n",
      "5  \t100   \t-9.52384e+08\t9.63408e+08\t-1.95706e+09\t-0.556857  \n",
      "6  \t100   \t-9.43007e+08\t9.57231e+08\t-1.95706e+09\t-0.556857  \n",
      "7  \t100   \t-9.0411e+08 \t9.37675e+08\t-2.12118e+09\t-0.556857  \n",
      "8  \t100   \t-8.47999e+08\t9.08389e+08\t-2.12118e+09\t-0.556857  \n",
      "9  \t100   \t-8.23482e+08\t8.79713e+08\t-2.12118e+09\t-0.556857  \n",
      "10 \t100   \t-8.18123e+08\t8.71557e+08\t-2.12118e+09\t-0.556857  \n",
      "11 \t100   \t-8.39839e+08\t8.52334e+08\t-2.12118e+09\t-0.556857  \n",
      "12 \t100   \t-8.85395e+08\t8.94175e+08\t-2.12118e+09\t-0.556857  \n",
      "13 \t100   \t-9.08225e+08\t9.14235e+08\t-2.12118e+09\t-0.556857  \n",
      "14 \t100   \t-9.09652e+08\t9.17346e+08\t-2.12118e+09\t-0.556857  \n",
      "15 \t100   \t-9.10322e+08\t9.18976e+08\t-2.12118e+09\t-0.556857  \n",
      "16 \t100   \t-9.17429e+08\t9.27177e+08\t-2.12118e+09\t-0.556857  \n",
      "17 \t100   \t-9.28235e+08\t9.39355e+08\t-2.12118e+09\t-0.556857  \n",
      "18 \t100   \t-9.50977e+08\t9.64191e+08\t-2.12118e+09\t-0.556857  \n",
      "19 \t100   \t-9.94474e+08\t1.00852e+09\t-2.12118e+09\t-0.556857  \n"
     ]
    }
   ],
   "source": [
    "results = main()\n",
    "plot_pareto(results[0])"
   ]
  }
 ],
 "metadata": {
  "kernelspec": {
   "display_name": "Python 3",
   "language": "python",
   "name": "python3"
  },
  "language_info": {
   "codemirror_mode": {
    "name": "ipython",
    "version": 3
   },
   "file_extension": ".py",
   "mimetype": "text/x-python",
   "name": "python",
   "nbconvert_exporter": "python",
   "pygments_lexer": "ipython3",
   "version": "3.6.7"
  }
 },
 "nbformat": 4,
 "nbformat_minor": 2
}
